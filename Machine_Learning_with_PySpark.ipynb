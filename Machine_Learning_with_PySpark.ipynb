{
  "nbformat": 4,
  "nbformat_minor": 0,
  "metadata": {
    "colab": {
      "provenance": []
    },
    "kernelspec": {
      "name": "python3",
      "display_name": "Python 3"
    },
    "language_info": {
      "name": "python"
    }
  },
  "cells": [
    {
      "cell_type": "code",
      "source": [
        "!pip install pyspark"
      ],
      "metadata": {
        "colab": {
          "base_uri": "https://localhost:8080/"
        },
        "id": "bGZl6wRZk4Ji",
        "outputId": "46a8945f-6c4e-45a3-adce-e68a51ad447b"
      },
      "execution_count": 1,
      "outputs": [
        {
          "output_type": "stream",
          "name": "stdout",
          "text": [
            "Looking in indexes: https://pypi.org/simple, https://us-python.pkg.dev/colab-wheels/public/simple/\n",
            "Collecting pyspark\n",
            "  Downloading pyspark-3.4.0.tar.gz (310.8 MB)\n",
            "\u001b[2K     \u001b[90m━━━━━━━━━━━━━━━━━━━━━━━━━━━━━━━━━━━━━━━\u001b[0m \u001b[32m310.8/310.8 MB\u001b[0m \u001b[31m2.9 MB/s\u001b[0m eta \u001b[36m0:00:00\u001b[0m\n",
            "\u001b[?25h  Preparing metadata (setup.py) ... \u001b[?25l\u001b[?25hdone\n",
            "Requirement already satisfied: py4j==0.10.9.7 in /usr/local/lib/python3.10/dist-packages (from pyspark) (0.10.9.7)\n",
            "Building wheels for collected packages: pyspark\n",
            "  Building wheel for pyspark (setup.py) ... \u001b[?25l\u001b[?25hdone\n",
            "  Created wheel for pyspark: filename=pyspark-3.4.0-py2.py3-none-any.whl size=311317130 sha256=53b2e8f64b8d239296355a9ee42f7281f289dab72c665707af5b68ab634c3132\n",
            "  Stored in directory: /root/.cache/pip/wheels/7b/1b/4b/3363a1d04368e7ff0d408e57ff57966fcdf00583774e761327\n",
            "Successfully built pyspark\n",
            "Installing collected packages: pyspark\n",
            "Successfully installed pyspark-3.4.0\n"
          ]
        }
      ]
    },
    {
      "cell_type": "code",
      "execution_count": 60,
      "metadata": {
        "id": "23egiJnHic2d"
      },
      "outputs": [],
      "source": [
        "from pyspark.ml.feature import VectorAssembler, StringIndexer\n",
        "from pyspark.ml.classification import LogisticRegression\n",
        "from pyspark.ml import Pipeline\n",
        "from pyspark.sql.session import SparkSession\n"
      ]
    },
    {
      "cell_type": "code",
      "source": [
        "# Create a SparkSession\n",
        "spark = SparkSession.builder.appName(\"TelecomChurnPrediction\").getOrCreate()"
      ],
      "metadata": {
        "id": "7EP0ivyInlFZ"
      },
      "execution_count": 52,
      "outputs": []
    },
    {
      "cell_type": "code",
      "source": [
        "# Load the CSV file into a DataFrame\n",
        "df = spark.read.csv(\"telecom_dataset.csv\", header=True, inferSchema=True)"
      ],
      "metadata": {
        "id": "egi5SmXbn-uq"
      },
      "execution_count": 61,
      "outputs": []
    },
    {
      "cell_type": "code",
      "source": [
        "# Convert string columns to numerical categories\n",
        "indexers = [\n",
        "    StringIndexer(inputCol=col, outputCol=col+\"_index\", handleInvalid=\"keep\")\n",
        "    for col in ['Gender', 'Contract', 'Churn']\n",
        "]\n",
        "indexers.append(StringIndexer(inputCol=\"CustomerID\", outputCol=\"label\", handleInvalid=\"keep\"))\n",
        "indexer_pipeline = Pipeline(stages=indexers)\n",
        "indexed_data = indexer_pipeline.fit(df).transform(df)\n",
        "df.show()"
      ],
      "metadata": {
        "id": "6SapBqnVSxEJ"
      },
      "execution_count": null,
      "outputs": []
    },
    {
      "cell_type": "code",
      "source": [
        "# Select Features and label\n",
        "feature_columns = ['Gender_index', 'Age', 'Contract_index', 'MonthlyCharges', 'TotalCharges']\n",
        "label_column = \"label\"\n",
        "\n",
        "# Vectorize Features\n",
        "vectorAssembler = VectorAssembler(inputCols=feature_columns, outputCol=\"features\")\n",
        "v_data = vectorAssembler.transform(indexed_data)\n",
        "\n",
        "# Split the Data for Training and Testing\n",
        "splits = v_data.randomSplit([0.8, 0.2])\n",
        "train_data = splits[0]\n",
        "test_data = splits[1]\n",
        "\n",
        "# Create Logistic Regression model\n",
        "lr = LogisticRegression(labelCol=label_column, featuresCol=\"features\")\n",
        "\n",
        "# Train the model\n",
        "model = lr.fit(train_data)\n",
        "\n",
        "# Test the model\n",
        "predictions = model.transform(test_data)\n",
        "\n",
        "# Evaluate the model\n",
        "predictions.select(\"CustomerID\", \"prediction\").show()"
      ],
      "metadata": {
        "id": "AnyTI1UkUFH6"
      },
      "execution_count": null,
      "outputs": []
    }
  ]
}